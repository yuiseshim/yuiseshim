{
 "cells": [
  {
   "cell_type": "code",
   "execution_count": 1,
   "metadata": {},
   "outputs": [
    {
     "name": "stdout",
     "output_type": "stream",
     "text": [
      "cp /Users/hiroyuki_seshime/.bashrc /Users/hiroyuki_seshime/yuiseshim/yuiseshim/\n",
      "\n",
      "cp /Users/hiroyuki_seshime/.bash_profile /Users/hiroyuki_seshime/yuiseshim/yuiseshim/\n",
      "\n",
      "cp /Users/hiroyuki_seshime/Desktop/.bash_mykey /Users/hiroyuki_seshime/yuiseshim/yuiseshim/\n",
      "\n",
      "cp -r /Users/hiroyuki_seshime/Library/Application\\ Support/AquaSKK /Users/hiroyuki_seshime/yuiseshim/yuiseshim/\n",
      "\n",
      "cp /Users/hiroyuki_seshime/Desktop/AquaSKK/skk-jisyo.utf8 /Users/hiroyuki_seshime/yuiseshim/yuiseshim/AquaSKK/\n",
      "\n",
      "cp -r /Users/hiroyuki_seshime/.jupyter /Users/hiroyuki_seshime/yuiseshim/yuiseshim/\n",
      "\n"
     ]
    }
   ],
   "source": [
    "import subprocess\n",
    "import os\n",
    "import re\n",
    "\n",
    "HOME = os.getenv('HOME')\n",
    "CWD = os.getcwd()\n",
    "\n",
    "cmds = '''\n",
    "  cp {HOME}/.bashrc {CWD}/\n",
    "  cp {HOME}/.bash_profile {CWD}/\n",
    "  cp {HOME}/Desktop/.bash_mykey {CWD}/\n",
    "  cp -r {HOME}/Library/Application\\ Support/AquaSKK {CWD}/\n",
    "  cp {HOME}/Desktop/AquaSKK/skk-jisyo.utf8 {CWD}/AquaSKK/\n",
    "  cp -r {HOME}/.jupyter {CWD}/\n",
    "'''.format(HOME=HOME, CWD=CWD)\n",
    "\n",
    "pattern = '(?<=[a-zA-Z0-9ぁ-んァ-ン一-龥a])\\s'\n",
    "pattern = re.compile(pattern)\n",
    "cmds = list(filter(lambda x:len(x)>0, cmds.split('\\n')))\n",
    "for cmd in cmds:\n",
    "  cmd = cmd.strip()\n",
    "  print(cmd)\n",
    "  cmd = re.split(pattern, cmd)\n",
    "  cmd = list(map(lambda x:x.replace('\\ ', ' '), cmd))\n",
    "  #subprocess.call(cmd)\n",
    "  proc = subprocess.run(\n",
    "    cmd, \n",
    "    stdout = subprocess.PIPE, \n",
    "    stderr = subprocess.PIPE, \n",
    "  )\n",
    "  print(proc.stdout.decode('utf8'))"
   ]
  },
  {
   "cell_type": "code",
   "execution_count": 3,
   "metadata": {},
   "outputs": [
    {
     "name": "stdout",
     "output_type": "stream",
     "text": [
      "git add *\n",
      "\n",
      "git commit\n",
      "\n",
      "git push origin master\n",
      "\n"
     ]
    }
   ],
   "source": [
    "cmds = '''\n",
    "  git add {SCR}\n",
    "  git commit\n",
    "  git push origin {BRANCH}\n",
    "'''.format(SCR='*', BRANCH='master')\n",
    "\n",
    "pattern = '(?<=[a-zA-Z0-9ぁ-んァ-ン一-龥])\\s'\n",
    "pattern = re.compile(pattern)\n",
    "cmds = list(filter(lambda x:len(x)>0, cmds.split('\\n')))\n",
    "for cmd in cmds:\n",
    "  cmd = cmd.strip()\n",
    "  print(cmd)\n",
    "  cmd = re.split(pattern, cmd)\n",
    "  cmd = list(map(lambda x:x.replace('\\ ', ' '), cmd))\n",
    "  #subprocess.call(cmd)\n",
    "  proc = subprocess.run(\n",
    "    cmd, \n",
    "    stdout = subprocess.PIPE, \n",
    "    stderr = subprocess.PIPE, \n",
    "  )\n",
    "  print(proc.stdout.decode('utf8'))"
   ]
  },
  {
   "cell_type": "code",
   "execution_count": null,
   "metadata": {},
   "outputs": [],
   "source": [
    "import subprocess\n",
    "cmds = '''\n",
    "git checkout master\n",
    "git pull -p\n",
    "git checkout -b {branch}\n",
    "git add {script}\n",
    "git commit -m \"{comment}\"\n",
    "git push origin {branch}\n",
    "'''.format(branch='test', script='test', comment='test')\n",
    "cmds = list(filter(lambda x:len(x)>0, cmds.split('\\n')))\n",
    "for cmd in cmds:\n",
    "  print(cmd)\n",
    "  cmd = cmd.split()\n",
    "  "
   ]
  }
 ],
 "metadata": {
  "kernelspec": {
   "display_name": "Python 3",
   "language": "python",
   "name": "python3"
  },
  "language_info": {
   "codemirror_mode": {
    "name": "ipython",
    "version": 3
   },
   "file_extension": ".py",
   "mimetype": "text/x-python",
   "name": "python",
   "nbconvert_exporter": "python",
   "pygments_lexer": "ipython3",
   "version": "3.7.2"
  }
 },
 "nbformat": 4,
 "nbformat_minor": 2
}
