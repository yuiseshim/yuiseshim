{
 "cells": [
  {
   "cell_type": "code",
   "execution_count": null,
   "metadata": {},
   "outputs": [],
   "source": [
    "import matplotlib\n",
    "import os\n",
    "import shutil"
   ]
  },
  {
   "cell_type": "code",
   "execution_count": null,
   "metadata": {},
   "outputs": [],
   "source": [
    "HOME = os.path.expanduser('~')\n",
    "\n",
    "FILES = [\n",
    "    'ipamp.ttf', #IPA P明朝 \n",
    "    'ipam.ttf', #IPA明朝 \n",
    "    'ipagp.ttf', #IPA Pゴシック \n",
    "    'ipag.ttf' #IPAゴシック \n",
    "]\n",
    "\n",
    "PATH_FONTS = '/Library/Fonts/'\n",
    "PATH_FONTS0 = HOME+'/Downloads/'\n",
    "for file in FILES:\n",
    "    file0 = PATH_FONTS0+file\n",
    "    file = PATH_FONTS+file\n",
    "    is_file = os.path.exists(file)\n",
    "    if is_file == False:\n",
    "        shutil.copy2(file0, file)"
   ]
  },
  {
   "cell_type": "code",
   "execution_count": null,
   "metadata": {},
   "outputs": [],
   "source": [
    "matplotlibrc0 = matplotlib.matplotlib_fname()\n",
    "print(matplotlibrc0)"
   ]
  },
  {
   "cell_type": "code",
   "execution_count": null,
   "metadata": {
    "scrolled": true
   },
   "outputs": [],
   "source": [
    "matplotlibrc = HOME + '/.matplotlib/'\n",
    "print(matplotlibrc)"
   ]
  },
  {
   "cell_type": "code",
   "execution_count": null,
   "metadata": {
    "scrolled": true
   },
   "outputs": [],
   "source": [
    "shutil.copy2(matplotlibrc0, matplotlibrc)"
   ]
  },
  {
   "cell_type": "code",
   "execution_count": null,
   "metadata": {},
   "outputs": [],
   "source": [
    "# Correct matplotlibrc\n",
    "# font.family : IPAexGothic"
   ]
  },
  {
   "cell_type": "code",
   "execution_count": null,
   "metadata": {},
   "outputs": [],
   "source": [
    "CACHE = HOME + '/.matplotlib/fontList.json'\n",
    "\n",
    "os.remove(CACHE)"
   ]
  }
 ],
 "metadata": {
  "kernelspec": {
   "display_name": "Python 3",
   "language": "python",
   "name": "python3"
  },
  "language_info": {
   "codemirror_mode": {
    "name": "ipython",
    "version": 3
   },
   "file_extension": ".py",
   "mimetype": "text/x-python",
   "name": "python",
   "nbconvert_exporter": "python",
   "pygments_lexer": "ipython3",
   "version": "3.6.3"
  }
 },
 "nbformat": 4,
 "nbformat_minor": 2
}
